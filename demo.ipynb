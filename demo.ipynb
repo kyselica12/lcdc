{
 "cells": [
  {
   "cell_type": "code",
   "execution_count": 1,
   "metadata": {},
   "outputs": [],
   "source": [
    "from datasets import load_dataset, Dataset\n",
    "\n",
    "from   lcdc import DatasetBuilder, LCDataset\n",
    "from   lcdc.vars import Variability, TENTH_OF_SECOND\n",
    "import lcdc.preprocessing as pp\n",
    "import lcdc.stats as stats"
   ]
  },
  {
   "cell_type": "code",
   "execution_count": 2,
   "metadata": {},
   "outputs": [
    {
     "name": "stdout",
     "output_type": "stream",
     "text": [
      "Loaded 1 objects and 391 tracks\n"
     ]
    },
    {
     "name": "stderr",
     "output_type": "stream",
     "text": [
      "Preprocessing: 100%|██████████| 391/391 [00:42<00:00,  9.19it/s]\n",
      "Preparing data: 100%|██████████| 306/306 [00:00<00:00, 79113.42it/s]\n"
     ]
    }
   ],
   "source": [
    "MMT_PATH = \"/home/k/kyselica12/work/mmt/MMT\"\n",
    "IDX = 29517\n",
    "classes = [\"H-2A R/B\"]\n",
    "regexes = None\n",
    "preprocessing = pp.Compose(\n",
    "    pp.FilterByPeriodicity(Variability.PERIODIC),\n",
    "    pp.SplitByRotationalPeriod(1), \n",
    "    pp.FilterFolded(100, 0.75), \n",
    "    pp.FilterMinLength(100),\n",
    ")\n",
    "statistics = [\n",
    "    stats.MediumTime(), \n",
    "    stats.MediumPhase(), \n",
    "    stats.FourierSeries(8, fs=True, amplitude=True)\n",
    "]\n",
    "\n",
    "db = DatasetBuilder(MMT_PATH, norad_ids=[IDX], preprocessing=preprocessing, statistics=statistics, lazy=False)\n",
    "ds = db.to_dict(data_types=[])\n",
    "# ds = ds.with_format(\"numpy\", columns=[\"FourierCoefs\"])\n",
    "\n",
    "# preprocessing = pp.Compose(FilterByPeriodicity(Variability.PERIODIC), pp.FilterFolded(100, 0.75), pp.FilterMinLength(100))\n",
    "# db = DatasetBuilder(MMT_PATH, classes=classes, regexes=regexes, preprocessing=preprocessing, lazy=False)"
   ]
  },
  {
   "cell_type": "code",
   "execution_count": 9,
   "metadata": {},
   "outputs": [
    {
     "data": {
      "text/plain": [
       "Dataset({\n",
       "    features: ['id', 'norad_id', 'label', 'period', 'timestamp', 'start_idx', 'end_idx', 'FourierAmplitude', 'FourierCoefs', 'MediumPhase', 'MediumTime'],\n",
       "    num_rows: 4207\n",
       "})"
      ]
     },
     "execution_count": 9,
     "metadata": {},
     "output_type": "execute_result"
    }
   ],
   "source": [
    "ds[\"data\"]"
   ]
  },
  {
   "cell_type": "code",
   "execution_count": 3,
   "metadata": {},
   "outputs": [],
   "source": [
    "ds[\"data\"] = ds[\"data\"].with_format(\"numpy\", columns=[\"FourierCoefs\"])"
   ]
  },
  {
   "cell_type": "code",
   "execution_count": 4,
   "metadata": {},
   "outputs": [
    {
     "data": {
      "text/plain": [
       "(4207, 17)"
      ]
     },
     "execution_count": 4,
     "metadata": {},
     "output_type": "execute_result"
    }
   ],
   "source": [
    "ds[\"data\"][\"FourierCoefs\"].shape"
   ]
  },
  {
   "cell_type": "code",
   "execution_count": 5,
   "metadata": {},
   "outputs": [
    {
     "name": "stderr",
     "output_type": "stream",
     "text": [
      "Preprocessing:   4%|▎         | 11/306 [00:00<00:02, 105.27it/s]"
     ]
    },
    {
     "name": "stderr",
     "output_type": "stream",
     "text": [
      "Preprocessing: 100%|██████████| 306/306 [00:04<00:00, 62.01it/s]\n"
     ]
    }
   ],
   "source": [
    "db.to_file(f\"TEST\",[])\n",
    "# data_set.to_file(f\"CZ-3B_{IDX}\", [DataType.MAG, DataType.PHASE])"
   ]
  },
  {
   "cell_type": "code",
   "execution_count": 6,
   "metadata": {},
   "outputs": [],
   "source": [
    "ds2 = LCDataset.dict_from_file(\"TEST\")"
   ]
  },
  {
   "cell_type": "code",
   "execution_count": 7,
   "metadata": {},
   "outputs": [
    {
     "data": {
      "text/plain": [
       "{'data': Dataset({\n",
       "     features: ['id', 'norad_id', 'label', 'period', 'timestamp', 'start_idx', 'end_idx', 'MediumPhase', 'MediumTime', 'FourierCoefs', 'FourierAmplitude'],\n",
       "     num_rows: 306\n",
       " })}"
      ]
     },
     "execution_count": 7,
     "metadata": {},
     "output_type": "execute_result"
    }
   ],
   "source": [
    "ds2"
   ]
  },
  {
   "cell_type": "code",
   "execution_count": 6,
   "metadata": {},
   "outputs": [],
   "source": [
    "data_dict = LCDataset.dict_from_file(f\"CZ-3B_{IDX}\")\n",
    "ds2 = Dataset.from_dict(data_dict[\"data\"])"
   ]
  },
  {
   "cell_type": "code",
   "execution_count": 10,
   "metadata": {},
   "outputs": [
    {
     "data": {
      "application/vnd.jupyter.widget-view+json": {
       "model_id": "ecf4ae77b1f34de58575429fdcfd1ecd",
       "version_major": 2,
       "version_minor": 0
      },
      "text/plain": [
       "Map:   0%|          | 0/4207 [00:00<?, ? examples/s]"
      ]
     },
     "metadata": {},
     "output_type": "display_data"
    }
   ],
   "source": [
    "ds[\"data\"] = ds[\"data\"].map(lambda x: {\"a0\": x[\"FourierCoefs\"][0]}, remove_columns=[\"FourierCoefs\"])"
   ]
  },
  {
   "cell_type": "code",
   "execution_count": 11,
   "metadata": {},
   "outputs": [],
   "source": [
    "ds[\"data\"] = ds[\"data\"].with_format(\"numpy\", columns=[\"a0\", \"MediumPhase\", \"MediumTime\"])"
   ]
  },
  {
   "cell_type": "code",
   "execution_count": 14,
   "metadata": {},
   "outputs": [
    {
     "data": {
      "image/png": "[encoded data removed]",
      "text/plain": [
       "<Figure size 640x480 with 1 Axes>"
      ]
     },
     "metadata": {},
     "output_type": "display_data"
    }
   ],
   "source": [
    "import matplotlib.pyplot as plt\n",
    "\n",
    "# smaller points\n",
    "plt.scatter(ds[\"data\"][\"MediumPhase\"], ds[\"data\"][\"a0\"], s=1)\n",
    "plt.gca().invert_yaxis()"
   ]
  },
  {
   "cell_type": "code",
   "execution_count": null,
   "metadata": {},
   "outputs": [
    {
     "name": "stdout",
     "output_type": "stream",
     "text": [
      "Loaded 1 objects and 391 tracks\n"
     ]
    },
    {
     "name": "stderr",
     "output_type": "stream",
     "text": [
      "Preprocessing: 100%|██████████| 391/391 [00:24<00:00, 15.84it/s]\n",
      "Preparing data: 100%|██████████| 306/306 [00:00<00:00, 72861.60it/s]\n"
     ]
    }
   ],
   "source": [
    "from   lcdc import DatasetBuilder, LCDataset\n",
    "from   lcdc.vars import Variability, TENTH_OF_SECOND, DataType as DT\n",
    "import lcdc.preprocessing as pp\n",
    "import lcdc.stats as stats\n",
    "\n",
    "MMT_PATH = \"/home/k/kyselica12/work/mmt/MMT\"\n",
    "IDX = 29517\n",
    "classes = [\"H-2A R/B\"]\n",
    "regexes = None\n",
    "preprocessing = pp.Compose(\n",
    "    pp.FilterByPeriodicity(Variability.PERIODIC),\n",
    "    pp.SplitByRotationalPeriod(1), \n",
    "    pp.SplitBySize(10_000*TENTH_OF_SECOND),\n",
    "    pp.FilterFolded(100, 0.75), \n",
    "    pp.FilterMinLength(100),\n",
    "    pp.ToGrid(10, size=10_000),\n",
    ")\n",
    "\n",
    "statistics = []\n",
    "\n",
    "db = DatasetBuilder(MMT_PATH, norad_ids=[IDX], preprocessing=preprocessing, statistics=statistics, lazy=False)\n",
    "ds = db.to_dict(data_types=[DT.MAG])\n",
    "ds[\"data\"] = ds[\"data\"].with_format(\"numpy\", columns=[\"mag\"])"
   ]
  }
 ],
 "metadata": {
  "kernelspec": {
   "display_name": "forest_segmentation",
   "language": "python",
   "name": "python3"
  },
  "language_info": {
   "codemirror_mode": {
    "name": "ipython",
    "version": 3
   },
   "file_extension": ".py",
   "mimetype": "text/x-python",
   "name": "python",
   "nbconvert_exporter": "python",
   "pygments_lexer": "ipython3",
   "version": "3.11.5"
  }
 },
 "nbformat": 4,
 "nbformat_minor": 2
}
